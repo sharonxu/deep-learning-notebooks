{
  "cells": [
    {
      "cell_type": "markdown",
      "metadata": {
        "id": "view-in-github",
        "colab_type": "text"
      },
      "source": [
        "<a href=\"https://colab.research.google.com/github/sharonxu/deep-learning-notebooks/blob/main/timeseries_stellargraph_gcn_lstm.ipynb\" target=\"_parent\"><img src=\"https://colab.research.google.com/assets/colab-badge.svg\" alt=\"Open In Colab\"/></a>"
      ]
    },
    {
      "cell_type": "markdown",
      "metadata": {
        "id": "0"
      },
      "source": [
        "# Forecasting using spatio-temporal data with combined Graph Convolution + LSTM model"
      ]
    },
    {
      "cell_type": "markdown",
      "metadata": {
        "nbsphinx": "hidden",
        "tags": [
          "CloudRunner"
        ],
        "id": "1"
      },
      "source": [
        "<table><tr><td>Run the latest release of this notebook:</td><td><a href=\"https://mybinder.org/v2/gh/stellargraph/stellargraph/master?urlpath=lab/tree/demos/time-series/gcn-lstm-time-series.ipynb\" alt=\"Open In Binder\" target=\"_parent\"><img src=\"https://mybinder.org/badge_logo.svg\"/></a></td><td><a href=\"https://colab.research.google.com/github/stellargraph/stellargraph/blob/master/demos/time-series/gcn-lstm-time-series.ipynb\" alt=\"Open In Colab\" target=\"_parent\"><img src=\"https://colab.research.google.com/assets/colab-badge.svg\"/></a></td></tr></table>"
      ]
    },
    {
      "cell_type": "markdown",
      "metadata": {
        "id": "2"
      },
      "source": [
        "The dynamics of many real-world phenomena are spatio-temporal in nature. Traffic forecasting is a quintessential example of spatio-temporal problems for which we present here a deep learning framework that models speed prediction using spatio-temporal data. The task is challenging due to two main inter-linked factors: (1) the complex spatial dependency on road networks, and (2) non-linear temporal dynamics with changing road conditions.\n",
        "\n",
        "To address these challenges, here we  explore a neural network architecture that learns from both the spatial road network data and time-series of historical speed changes to forecast speeds on road segments at a future time. In the following we demo how to forecast speeds on road segments through a `graph convolution` and `LSTM` hybrid model.  The spatial dependency of the road networks are learnt through multiple graph convolution layers  stacked over multiple LSTM,  sequence to sequence model, layers that leverage the historical speeds on top of the network structure to predict speeds in the future for each entity. \n",
        "\n",
        "The architecture of the GCN-LSTM model is inspired by the paper: [T-GCN: A Temporal Graph Convolutional Network for Traffic Prediction](https://ieeexplore.ieee.org/document/8809901).\n",
        "\n",
        "The authors have made available the implementation of their model in their GitHub [repository](https://github.com/lehaifeng/T-GCN).\n",
        "There has been a few differences in the architecture proposed in the paper and the implementation of the graph convolution component, these issues have been documented [here](https://github.com/lehaifeng/T-GCN/issues/18) and [here](https://github.com/lehaifeng/T-GCN/issues/14). The `GCN_LSTM` model in `StellarGraph`  emulates the model as explained in the paper while giving additional flexibility of adding any number of `graph convolution` and `LSTM` layers. \n",
        "\n",
        "Concretely, the architecture of `GCN_LSTM` is as follows:\n",
        "\n",
        "1. User defined number of  graph convolutional layers (Reference: [Kipf & Welling (ICLR 2017)](http://arxiv.org/abs/1609.02907)).\n",
        "2. User defined number of  LSTM layers. The [TGCN](https://ieeexplore.ieee.org/document/8809901) uses GRU instead of LSTM. In practice there are not any remarkable differences between the two types of layers. We use LSTM as they are more frequently used.\n",
        "3. A Dropout and a Dense layer as they experimentally showed improvement in performance and managing over-fitting.\n",
        "\n",
        "## References: \n",
        "\n",
        "* [T-GCN: A Temporal Graph Convolutional Network for Traffic Prediction](https://ieeexplore.ieee.org/document/8809901)\n",
        "* [https://github.com/lehaifeng/T-GCN](https://github.com/lehaifeng/T-GCN)\n",
        "* [Semi-Supervised Classification with Graph Convolutional Networks](http://arxiv.org/abs/1609.02907)\n",
        "\n",
        "**Note: this method is applicable for uni-variate timeseries forecasting.**"
      ]
    },
    {
      "cell_type": "code",
      "execution_count": null,
      "metadata": {
        "nbsphinx": "hidden",
        "tags": [
          "CloudRunner"
        ],
        "id": "3"
      },
      "outputs": [],
      "source": [
        "# install StellarGraph if running on Google Colab\n",
        "import sys\n",
        "if 'google.colab' in sys.modules:\n",
        "  %pip install -q stellargraph[demos]==1.2.1"
      ]
    },
    {
      "cell_type": "code",
      "execution_count": null,
      "metadata": {
        "id": "5"
      },
      "outputs": [],
      "source": [
        "import os\n",
        "import sys\n",
        "import urllib.request\n",
        "\n",
        "import numpy as np\n",
        "import matplotlib.pyplot as plt\n",
        "import matplotlib.lines as mlines\n",
        "\n",
        "import tensorflow as tf\n",
        "from tensorflow import keras\n",
        "from tensorflow.keras import Sequential, Model\n",
        "from tensorflow.keras.layers import LSTM, Dense, Dropout, Input"
      ]
    },
    {
      "cell_type": "markdown",
      "metadata": {
        "id": "6"
      },
      "source": [
        "## Data\n",
        "\n",
        "We apply the GCN-LSTM model to the **Los-loop** data. This traffic dataset\n",
        "contains traffic information collected from loop detectors in the highway of Los Angeles County (Jagadish\n",
        "et al., 2014).  There are several processed versions of this dataset used by the research community working in Traffic forecasting space. \n",
        "\n",
        "This demo is based on the preprocessed version of the dataset used by the TGCN paper. It can be directly accessed from there [github repo](https://github.com/lehaifeng/T-GCN/tree/master/data). \n",
        "\n",
        "This dataset  contains traffic speeds from Mar.1 to Mar.7, 2012 of 207 sensors, recorded every 5 minutes. \n",
        "\n",
        "In order to use the model, we need:\n",
        "\n",
        "* A N by N adjacency matrix, which describes the distance relationship between the N sensors,\n",
        "* A N by T feature matrix, which describes the (f_1, .., f_T) speed records over T timesteps for the N sensors.\n",
        "\n",
        "A couple of other references for the same data albeit different time length are as follows: \n",
        "\n",
        "* [DIFFUSION CONVOLUTIONAL RECURRENT NEURAL NETWORK: DATA-DRIVEN TRAFFIC FORECASTING](https://github.com/liyaguang/DCRNN/tree/master/data): This dataset consists of 207 sensors and collect 4 months of data ranging from Mar 1st 2012 to Jun 30th 2012 for the experiment. It has some missing values.\n",
        "* [ST-MetaNet: Urban Traffic Prediction from Spatio-Temporal Data Using Deep Meta Learning](https://github.com/panzheyi/ST-MetaNet/tree/master/traffic-prediction). This work uses the DCRNN preprocessed data."
      ]
    },
    {
      "cell_type": "markdown",
      "metadata": {
        "id": "7"
      },
      "source": [
        "## Loading and preprocessing the data"
      ]
    },
    {
      "cell_type": "code",
      "execution_count": null,
      "metadata": {
        "id": "8"
      },
      "outputs": [],
      "source": [
        "import stellargraph as sg"
      ]
    },
    {
      "cell_type": "markdown",
      "metadata": {
        "id": "9"
      },
      "source": [
        "This demo is based on the preprocessed version of the dataset used by the TGCN paper."
      ]
    },
    {
      "cell_type": "code",
      "execution_count": null,
      "metadata": {
        "colab": {
          "base_uri": "https://localhost:8080/"
        },
        "id": "10",
        "outputId": "34d57019-4ed8-4a4b-e7ca-3e7226ab2001"
      },
      "outputs": [
        {
          "output_type": "stream",
          "name": "stderr",
          "text": [
            "<ipython-input-8-1f0417697df8>:1: ExperimentalWarning: METR_LA is experimental: tests and documentation missing (see: https://github.com/stellargraph/stellargraph/issues/1303). It may be difficult to use and may have major changes at any time.\n",
            "  dataset = sg.datasets.METR_LA()\n"
          ]
        }
      ],
      "source": [
        "dataset = sg.datasets.METR_LA()"
      ]
    },
    {
      "cell_type": "markdown",
      "metadata": {
        "tags": [
          "DataLoadingLinks"
        ],
        "id": "11"
      },
      "source": [
        "(See [the \"Loading from Pandas\" demo](../basics/loading-pandas.ipynb) for details on how data can be loaded.)"
      ]
    },
    {
      "cell_type": "code",
      "execution_count": null,
      "metadata": {
        "tags": [
          "DataLoading"
        ],
        "colab": {
          "base_uri": "https://localhost:8080/"
        },
        "id": "12",
        "outputId": "6b3c37a6-e020-4645-b9c2-d37460a32de3"
      },
      "outputs": [
        {
          "output_type": "stream",
          "name": "stdout",
          "text": [
            "No. of sensors: 207 \n",
            "No. of timesteps: 2016\n"
          ]
        }
      ],
      "source": [
        "speed_data, sensor_dist_adj = dataset.load()\n",
        "num_nodes, time_len = speed_data.shape\n",
        "print(\"No. of sensors:\", num_nodes, \"\\nNo. of timesteps:\", time_len)"
      ]
    },
    {
      "cell_type": "markdown",
      "metadata": {
        "id": "13"
      },
      "source": [
        "**Let's look at a sample of speed data.**"
      ]
    },
    {
      "cell_type": "code",
      "execution_count": null,
      "metadata": {
        "colab": {
          "base_uri": "https://localhost:8080/",
          "height": 236
        },
        "id": "14",
        "outputId": "8c02ba91-5bc8-4af1-ed0f-fc3543e1fd1c"
      },
      "outputs": [
        {
          "output_type": "execute_result",
          "data": {
            "text/plain": [
              "          0          1      2          3          4          5       6     \\\n",
              "773869  64.375  62.666667  64.00  61.777778  59.555556  57.333333  66.500   \n",
              "767541  67.625  68.555556  63.75  65.500000  67.250000  69.000000  63.875   \n",
              "767542  67.125  65.444444  60.00  62.555556  65.111111  67.666667  67.875   \n",
              "717447  61.500  62.444444  59.00  59.888889  60.777778  61.666667  62.375   \n",
              "717446  66.875  64.444444  66.50  66.777778  67.055556  67.333333  64.375   \n",
              "\n",
              "          7       8       9     ...    2006       2007    2008    2009  \\\n",
              "773869  63.625  68.750  63.500  ...  64.625  65.444444  63.125  62.875   \n",
              "767541  67.250  65.250  61.500  ...  67.125  66.555556  68.125  67.125   \n",
              "767542  63.250  63.500  62.500  ...  66.500  66.222222  67.625  68.625   \n",
              "717447  60.500  63.000  58.125  ...  55.625  61.000000  58.750  60.625   \n",
              "717446  57.375  65.125  66.625  ...  65.625  58.000000  66.625  67.125   \n",
              "\n",
              "          2010       2011    2012    2013       2014    2015  \n",
              "773869  68.375  65.555556  66.625  66.375  64.666667  66.000  \n",
              "767541  67.000  65.111111  66.625  66.375  66.555556  67.125  \n",
              "767542  68.500  64.111111  65.750  63.750  66.888889  66.375  \n",
              "717447  61.375  61.111111  64.750  63.750  59.888889  59.250  \n",
              "717446  64.500  66.000000  67.375  67.625  65.111111  64.250  \n",
              "\n",
              "[5 rows x 2016 columns]"
            ],
            "text/html": [
              "\n",
              "  <div id=\"df-4dda3ad6-4562-4b3d-9fcc-7cd950c8754c\">\n",
              "    <div class=\"colab-df-container\">\n",
              "      <div>\n",
              "<style scoped>\n",
              "    .dataframe tbody tr th:only-of-type {\n",
              "        vertical-align: middle;\n",
              "    }\n",
              "\n",
              "    .dataframe tbody tr th {\n",
              "        vertical-align: top;\n",
              "    }\n",
              "\n",
              "    .dataframe thead th {\n",
              "        text-align: right;\n",
              "    }\n",
              "</style>\n",
              "<table border=\"1\" class=\"dataframe\">\n",
              "  <thead>\n",
              "    <tr style=\"text-align: right;\">\n",
              "      <th></th>\n",
              "      <th>0</th>\n",
              "      <th>1</th>\n",
              "      <th>2</th>\n",
              "      <th>3</th>\n",
              "      <th>4</th>\n",
              "      <th>5</th>\n",
              "      <th>6</th>\n",
              "      <th>7</th>\n",
              "      <th>8</th>\n",
              "      <th>9</th>\n",
              "      <th>...</th>\n",
              "      <th>2006</th>\n",
              "      <th>2007</th>\n",
              "      <th>2008</th>\n",
              "      <th>2009</th>\n",
              "      <th>2010</th>\n",
              "      <th>2011</th>\n",
              "      <th>2012</th>\n",
              "      <th>2013</th>\n",
              "      <th>2014</th>\n",
              "      <th>2015</th>\n",
              "    </tr>\n",
              "  </thead>\n",
              "  <tbody>\n",
              "    <tr>\n",
              "      <th>773869</th>\n",
              "      <td>64.375</td>\n",
              "      <td>62.666667</td>\n",
              "      <td>64.00</td>\n",
              "      <td>61.777778</td>\n",
              "      <td>59.555556</td>\n",
              "      <td>57.333333</td>\n",
              "      <td>66.500</td>\n",
              "      <td>63.625</td>\n",
              "      <td>68.750</td>\n",
              "      <td>63.500</td>\n",
              "      <td>...</td>\n",
              "      <td>64.625</td>\n",
              "      <td>65.444444</td>\n",
              "      <td>63.125</td>\n",
              "      <td>62.875</td>\n",
              "      <td>68.375</td>\n",
              "      <td>65.555556</td>\n",
              "      <td>66.625</td>\n",
              "      <td>66.375</td>\n",
              "      <td>64.666667</td>\n",
              "      <td>66.000</td>\n",
              "    </tr>\n",
              "    <tr>\n",
              "      <th>767541</th>\n",
              "      <td>67.625</td>\n",
              "      <td>68.555556</td>\n",
              "      <td>63.75</td>\n",
              "      <td>65.500000</td>\n",
              "      <td>67.250000</td>\n",
              "      <td>69.000000</td>\n",
              "      <td>63.875</td>\n",
              "      <td>67.250</td>\n",
              "      <td>65.250</td>\n",
              "      <td>61.500</td>\n",
              "      <td>...</td>\n",
              "      <td>67.125</td>\n",
              "      <td>66.555556</td>\n",
              "      <td>68.125</td>\n",
              "      <td>67.125</td>\n",
              "      <td>67.000</td>\n",
              "      <td>65.111111</td>\n",
              "      <td>66.625</td>\n",
              "      <td>66.375</td>\n",
              "      <td>66.555556</td>\n",
              "      <td>67.125</td>\n",
              "    </tr>\n",
              "    <tr>\n",
              "      <th>767542</th>\n",
              "      <td>67.125</td>\n",
              "      <td>65.444444</td>\n",
              "      <td>60.00</td>\n",
              "      <td>62.555556</td>\n",
              "      <td>65.111111</td>\n",
              "      <td>67.666667</td>\n",
              "      <td>67.875</td>\n",
              "      <td>63.250</td>\n",
              "      <td>63.500</td>\n",
              "      <td>62.500</td>\n",
              "      <td>...</td>\n",
              "      <td>66.500</td>\n",
              "      <td>66.222222</td>\n",
              "      <td>67.625</td>\n",
              "      <td>68.625</td>\n",
              "      <td>68.500</td>\n",
              "      <td>64.111111</td>\n",
              "      <td>65.750</td>\n",
              "      <td>63.750</td>\n",
              "      <td>66.888889</td>\n",
              "      <td>66.375</td>\n",
              "    </tr>\n",
              "    <tr>\n",
              "      <th>717447</th>\n",
              "      <td>61.500</td>\n",
              "      <td>62.444444</td>\n",
              "      <td>59.00</td>\n",
              "      <td>59.888889</td>\n",
              "      <td>60.777778</td>\n",
              "      <td>61.666667</td>\n",
              "      <td>62.375</td>\n",
              "      <td>60.500</td>\n",
              "      <td>63.000</td>\n",
              "      <td>58.125</td>\n",
              "      <td>...</td>\n",
              "      <td>55.625</td>\n",
              "      <td>61.000000</td>\n",
              "      <td>58.750</td>\n",
              "      <td>60.625</td>\n",
              "      <td>61.375</td>\n",
              "      <td>61.111111</td>\n",
              "      <td>64.750</td>\n",
              "      <td>63.750</td>\n",
              "      <td>59.888889</td>\n",
              "      <td>59.250</td>\n",
              "    </tr>\n",
              "    <tr>\n",
              "      <th>717446</th>\n",
              "      <td>66.875</td>\n",
              "      <td>64.444444</td>\n",
              "      <td>66.50</td>\n",
              "      <td>66.777778</td>\n",
              "      <td>67.055556</td>\n",
              "      <td>67.333333</td>\n",
              "      <td>64.375</td>\n",
              "      <td>57.375</td>\n",
              "      <td>65.125</td>\n",
              "      <td>66.625</td>\n",
              "      <td>...</td>\n",
              "      <td>65.625</td>\n",
              "      <td>58.000000</td>\n",
              "      <td>66.625</td>\n",
              "      <td>67.125</td>\n",
              "      <td>64.500</td>\n",
              "      <td>66.000000</td>\n",
              "      <td>67.375</td>\n",
              "      <td>67.625</td>\n",
              "      <td>65.111111</td>\n",
              "      <td>64.250</td>\n",
              "    </tr>\n",
              "  </tbody>\n",
              "</table>\n",
              "<p>5 rows × 2016 columns</p>\n",
              "</div>\n",
              "      <button class=\"colab-df-convert\" onclick=\"convertToInteractive('df-4dda3ad6-4562-4b3d-9fcc-7cd950c8754c')\"\n",
              "              title=\"Convert this dataframe to an interactive table.\"\n",
              "              style=\"display:none;\">\n",
              "        \n",
              "  <svg xmlns=\"http://www.w3.org/2000/svg\" height=\"24px\"viewBox=\"0 0 24 24\"\n",
              "       width=\"24px\">\n",
              "    <path d=\"M0 0h24v24H0V0z\" fill=\"none\"/>\n",
              "    <path d=\"M18.56 5.44l.94 2.06.94-2.06 2.06-.94-2.06-.94-.94-2.06-.94 2.06-2.06.94zm-11 1L8.5 8.5l.94-2.06 2.06-.94-2.06-.94L8.5 2.5l-.94 2.06-2.06.94zm10 10l.94 2.06.94-2.06 2.06-.94-2.06-.94-.94-2.06-.94 2.06-2.06.94z\"/><path d=\"M17.41 7.96l-1.37-1.37c-.4-.4-.92-.59-1.43-.59-.52 0-1.04.2-1.43.59L10.3 9.45l-7.72 7.72c-.78.78-.78 2.05 0 2.83L4 21.41c.39.39.9.59 1.41.59.51 0 1.02-.2 1.41-.59l7.78-7.78 2.81-2.81c.8-.78.8-2.07 0-2.86zM5.41 20L4 18.59l7.72-7.72 1.47 1.35L5.41 20z\"/>\n",
              "  </svg>\n",
              "      </button>\n",
              "      \n",
              "  <style>\n",
              "    .colab-df-container {\n",
              "      display:flex;\n",
              "      flex-wrap:wrap;\n",
              "      gap: 12px;\n",
              "    }\n",
              "\n",
              "    .colab-df-convert {\n",
              "      background-color: #E8F0FE;\n",
              "      border: none;\n",
              "      border-radius: 50%;\n",
              "      cursor: pointer;\n",
              "      display: none;\n",
              "      fill: #1967D2;\n",
              "      height: 32px;\n",
              "      padding: 0 0 0 0;\n",
              "      width: 32px;\n",
              "    }\n",
              "\n",
              "    .colab-df-convert:hover {\n",
              "      background-color: #E2EBFA;\n",
              "      box-shadow: 0px 1px 2px rgba(60, 64, 67, 0.3), 0px 1px 3px 1px rgba(60, 64, 67, 0.15);\n",
              "      fill: #174EA6;\n",
              "    }\n",
              "\n",
              "    [theme=dark] .colab-df-convert {\n",
              "      background-color: #3B4455;\n",
              "      fill: #D2E3FC;\n",
              "    }\n",
              "\n",
              "    [theme=dark] .colab-df-convert:hover {\n",
              "      background-color: #434B5C;\n",
              "      box-shadow: 0px 1px 3px 1px rgba(0, 0, 0, 0.15);\n",
              "      filter: drop-shadow(0px 1px 2px rgba(0, 0, 0, 0.3));\n",
              "      fill: #FFFFFF;\n",
              "    }\n",
              "  </style>\n",
              "\n",
              "      <script>\n",
              "        const buttonEl =\n",
              "          document.querySelector('#df-4dda3ad6-4562-4b3d-9fcc-7cd950c8754c button.colab-df-convert');\n",
              "        buttonEl.style.display =\n",
              "          google.colab.kernel.accessAllowed ? 'block' : 'none';\n",
              "\n",
              "        async function convertToInteractive(key) {\n",
              "          const element = document.querySelector('#df-4dda3ad6-4562-4b3d-9fcc-7cd950c8754c');\n",
              "          const dataTable =\n",
              "            await google.colab.kernel.invokeFunction('convertToInteractive',\n",
              "                                                     [key], {});\n",
              "          if (!dataTable) return;\n",
              "\n",
              "          const docLinkHtml = 'Like what you see? Visit the ' +\n",
              "            '<a target=\"_blank\" href=https://colab.research.google.com/notebooks/data_table.ipynb>data table notebook</a>'\n",
              "            + ' to learn more about interactive tables.';\n",
              "          element.innerHTML = '';\n",
              "          dataTable['output_type'] = 'display_data';\n",
              "          await google.colab.output.renderOutput(dataTable, element);\n",
              "          const docLink = document.createElement('div');\n",
              "          docLink.innerHTML = docLinkHtml;\n",
              "          element.appendChild(docLink);\n",
              "        }\n",
              "      </script>\n",
              "    </div>\n",
              "  </div>\n",
              "  "
            ]
          },
          "metadata": {},
          "execution_count": 10
        }
      ],
      "source": [
        "speed_data.head()"
      ]
    },
    {
      "cell_type": "markdown",
      "metadata": {
        "id": "15"
      },
      "source": [
        "As you can see above, there are 2016 observations (timesteps) of speed records over 207 sensors. Speeds are recorded every 5 minutes.  This means that, for a single hour, you will have 12 observations. Similarly, a single day will contain 288 (12x24) observations. Overall, the data consists of speeds recorded every 5 minutes over 207  for 7 days (12X24X7).\n",
        "\n",
        "### Forecasting with spatio-temporal data as a supervised learning problem \n",
        "\n",
        "Time series forecasting problem can be cast as a supervised learning problem. We can do this by using previous timesteps as input features and use the next timestep as the output to predict. Then, the spatio-temporal forecasting question can be modeled as predicting the feature value in the future, given the historical values of the feature for that entity  as well as the feature values of the entities \"connected\" to the entity.  For example, the speed prediction problem, the historical speeds of the sensors are the timeseries and the distance between the sensors is the indicator for connectivity or closeness of sensors."
      ]
    },
    {
      "cell_type": "markdown",
      "metadata": {
        "id": "16"
      },
      "source": [
        "### Train/test split\n",
        "\n",
        "Just like for modeling any standard supervised learning problem, we first split the data into mutually exclusive train and test sets. However, unlike, a standard supervised learning problem,  in timeseries analysis, the data is in some chronological time respecting order and the train/test happens along the timeline. Let's say, we use the first `T_t` observations for training and the remaining `T - T_t` of the  total `T` observations for testing.  \n",
        "\n",
        "In the following we use first 80% observations for training and the rest for testing."
      ]
    },
    {
      "cell_type": "code",
      "execution_count": null,
      "metadata": {
        "id": "17"
      },
      "outputs": [],
      "source": [
        "def train_test_split(data, train_portion):\n",
        "    time_len = data.shape[1]\n",
        "    train_size = int(time_len * train_portion)\n",
        "    train_data = np.array(data.iloc[:, :train_size])\n",
        "    test_data = np.array(data.iloc[:, train_size:])\n",
        "    return train_data, test_data"
      ]
    },
    {
      "cell_type": "code",
      "execution_count": null,
      "metadata": {
        "id": "18"
      },
      "outputs": [],
      "source": [
        "train_rate = 0.8"
      ]
    },
    {
      "cell_type": "code",
      "execution_count": null,
      "metadata": {
        "colab": {
          "base_uri": "https://localhost:8080/"
        },
        "id": "19",
        "outputId": "bd0ee8f5-249b-4110-f349-06bf6a8852e2"
      },
      "outputs": [
        {
          "output_type": "stream",
          "name": "stdout",
          "text": [
            "Train data:  (207, 1612)\n",
            "Test data:  (207, 404)\n"
          ]
        }
      ],
      "source": [
        "train_data, test_data = train_test_split(speed_data, train_rate)\n",
        "print(\"Train data: \", train_data.shape)\n",
        "print(\"Test data: \", test_data.shape)"
      ]
    },
    {
      "cell_type": "markdown",
      "metadata": {
        "id": "20"
      },
      "source": [
        "### Scaling\n",
        "It is generally a good practice to  rescale the data from the original range so that all values are within the range of 0 and 1. Normalization can be useful and even necessary when your time series data has input values with differing scales.  In the following we normalize the speed timeseries by the maximum and minimum values of speeds in the train data. \n",
        "\n",
        "Note: `MinMaxScaler` in `scikit learn` library is typically used for transforming data. However, in timeseries data since the features are distinct timesteps, so using the historical range of values in a particular timestep as the range of values in later timesteps, may not be correct.  Hence, we use the maximum and the minimum of the entire range of values in the timeseries to scale and transform the train and test sets respectively."
      ]
    },
    {
      "cell_type": "code",
      "execution_count": null,
      "metadata": {
        "id": "21"
      },
      "outputs": [],
      "source": [
        "def scale_data(train_data, test_data):\n",
        "    max_speed = train_data.max()\n",
        "    min_speed = train_data.min()\n",
        "    train_scaled = (train_data - min_speed) / (max_speed - min_speed)\n",
        "    test_scaled = (test_data - min_speed) / (max_speed - min_speed)\n",
        "    return train_scaled, test_scaled"
      ]
    },
    {
      "cell_type": "code",
      "execution_count": null,
      "metadata": {
        "id": "22"
      },
      "outputs": [],
      "source": [
        "train_scaled, test_scaled = scale_data(train_data, test_data)"
      ]
    },
    {
      "cell_type": "markdown",
      "metadata": {
        "id": "23"
      },
      "source": [
        "### Sequence data preparation for LSTM\n",
        "\n",
        "We first need to prepare the data to be fed into an LSTM. \n",
        "The LSTM model learns a function that maps a sequence of past observations as input to an output observation. As such, the sequence of observations must be transformed into multiple examples from which the LSTM can learn.\n",
        "\n",
        "To make it concrete in terms of the speed prediction problem, we choose to use 50 minutes of historical speed observations to predict the speed in future, lets say, 1 hour ahead. Hence, we would first  reshape the timeseries data into windows of 10 historical observations for each segment as the input and the speed 60 minutes later is the label we are interested in predicting. We use the sliding window approach to prepare the data. This is how it works:  \n",
        "\n",
        "* Starting from the beginning of the timeseries, we take the first 10 speed records as the 10 input features and the speed 12 timesteps head (60 minutes) as the speed we want to predict. \n",
        "* Shift the timeseries by one timestep and take the 10 observations from the current point as the input features and the speed one hour ahead as the output to predict. \n",
        "* Keep shifting by 1 timestep and picking the 10 timestep window from the current time as input feature and the speed one hour ahead of the 10th timestep as the output to predict, for the entire data.\n",
        "* The above steps are done for each sensor. \n",
        "\n",
        "The function below returns the above transformed timeseries data for the model to train on. The parameter `seq_len` is the size of the past window of information. The `pre_len` is how far in the future does the model need to learn to predict. \n",
        "\n",
        "For this demo: \n",
        "\n",
        "* Each training observation are 10 historical speeds (`seq_len`).\n",
        "* Each training prediction is the speed 60 minutes later (`pre_len`)."
      ]
    },
    {
      "cell_type": "code",
      "execution_count": null,
      "metadata": {
        "id": "24"
      },
      "outputs": [],
      "source": [
        "seq_len = 10\n",
        "pre_len = 12"
      ]
    },
    {
      "cell_type": "code",
      "execution_count": null,
      "metadata": {
        "id": "25"
      },
      "outputs": [],
      "source": [
        "def sequence_data_preparation(seq_len, pre_len, train_data, test_data):\n",
        "    trainX, trainY, testX, testY = [], [], [], []\n",
        "\n",
        "    for i in range(train_data.shape[1] - int(seq_len + pre_len - 1)):\n",
        "        a = train_data[:, i : i + seq_len + pre_len]\n",
        "        trainX.append(a[:, :seq_len])\n",
        "        trainY.append(a[:, -1])\n",
        "\n",
        "    for i in range(test_data.shape[1] - int(seq_len + pre_len - 1)):\n",
        "        b = test_data[:, i : i + seq_len + pre_len]\n",
        "        testX.append(b[:, :seq_len])\n",
        "        testY.append(b[:, -1])\n",
        "\n",
        "    trainX = np.array(trainX)\n",
        "    trainY = np.array(trainY)\n",
        "    testX = np.array(testX)\n",
        "    testY = np.array(testY)\n",
        "\n",
        "    return trainX, trainY, testX, testY"
      ]
    },
    {
      "cell_type": "code",
      "execution_count": null,
      "metadata": {
        "colab": {
          "base_uri": "https://localhost:8080/"
        },
        "id": "26",
        "outputId": "c89f35b2-0485-4b8b-a236-5e6cd3b40e75"
      },
      "outputs": [
        {
          "output_type": "stream",
          "name": "stdout",
          "text": [
            "(1591, 207, 10)\n",
            "(1591, 207)\n",
            "(383, 207, 10)\n",
            "(383, 207)\n"
          ]
        }
      ],
      "source": [
        "trainX, trainY, testX, testY = sequence_data_preparation(\n",
        "    seq_len, pre_len, train_scaled, test_scaled\n",
        ")\n",
        "print(trainX.shape)\n",
        "print(trainY.shape)\n",
        "print(testX.shape)\n",
        "print(testY.shape)"
      ]
    },
    {
      "cell_type": "markdown",
      "metadata": {
        "id": "27"
      },
      "source": [
        "## StellarGraph Graph Convolution and LSTM model"
      ]
    },
    {
      "cell_type": "code",
      "source": [
        "sensor_dist_adj"
      ],
      "metadata": {
        "colab": {
          "base_uri": "https://localhost:8080/"
        },
        "id": "RRNN6FvcCP-t",
        "outputId": "bd058b7d-2d1f-4373-b38f-665106c00a03"
      },
      "execution_count": null,
      "outputs": [
        {
          "output_type": "execute_result",
          "data": {
            "text/plain": [
              "matrix([[1.        , 0.        , 0.        , ..., 0.        , 0.        ,\n",
              "         0.        ],\n",
              "        [0.        , 1.        , 0.71743792, ..., 0.        , 0.        ,\n",
              "         0.        ],\n",
              "        [0.        , 0.71743792, 1.        , ..., 0.        , 0.        ,\n",
              "         0.        ],\n",
              "        ...,\n",
              "        [0.        , 0.        , 0.        , ..., 1.        , 0.        ,\n",
              "         0.        ],\n",
              "        [0.        , 0.        , 0.        , ..., 0.        , 1.        ,\n",
              "         0.        ],\n",
              "        [0.        , 0.        , 0.        , ..., 0.        , 0.        ,\n",
              "         1.        ]])"
            ]
          },
          "metadata": {},
          "execution_count": 37
        }
      ]
    },
    {
      "cell_type": "code",
      "source": [
        "sensor_dist_adj.shape"
      ],
      "metadata": {
        "colab": {
          "base_uri": "https://localhost:8080/"
        },
        "id": "3dKJP-YdCRpu",
        "outputId": "edc42a5a-42db-45d7-c389-4a28c88c299f"
      },
      "execution_count": null,
      "outputs": [
        {
          "output_type": "execute_result",
          "data": {
            "text/plain": [
              "(207, 207)"
            ]
          },
          "metadata": {},
          "execution_count": 38
        }
      ]
    },
    {
      "cell_type": "code",
      "execution_count": null,
      "metadata": {
        "id": "28"
      },
      "outputs": [],
      "source": [
        "from stellargraph.layer import GCN_LSTM"
      ]
    },
    {
      "cell_type": "code",
      "execution_count": null,
      "metadata": {
        "colab": {
          "base_uri": "https://localhost:8080/"
        },
        "id": "29",
        "outputId": "831d54ab-5577-4eed-9c05-c3099df7ae73"
      },
      "outputs": [
        {
          "output_type": "stream",
          "name": "stderr",
          "text": [
            "<ipython-input-20-7baea039b469>:1: ExperimentalWarning: GCN_LSTM is experimental: Lack of unit tests and code refinement (see: https://github.com/stellargraph/stellargraph/issues/1132, https://github.com/stellargraph/stellargraph/issues/1526, https://github.com/stellargraph/stellargraph/issues/1564). It may be difficult to use and may have major changes at any time.\n",
            "  gcn_lstm = GCN_LSTM(\n"
          ]
        }
      ],
      "source": [
        "gcn_lstm = GCN_LSTM(\n",
        "    seq_len=seq_len,\n",
        "    adj=sensor_dist_adj,\n",
        "    gc_layer_sizes=[16, 10],\n",
        "    gc_activations=[\"relu\", \"relu\"],\n",
        "    lstm_layer_sizes=[200, 200],\n",
        "    lstm_activations=[\"tanh\", \"tanh\"],\n",
        ")"
      ]
    },
    {
      "cell_type": "code",
      "execution_count": null,
      "metadata": {
        "id": "30"
      },
      "outputs": [],
      "source": [
        "x_input, x_output = gcn_lstm.in_out_tensors()"
      ]
    },
    {
      "cell_type": "code",
      "execution_count": null,
      "metadata": {
        "id": "31"
      },
      "outputs": [],
      "source": [
        "model = Model(inputs=x_input, outputs=x_output)"
      ]
    },
    {
      "cell_type": "code",
      "execution_count": null,
      "metadata": {
        "id": "32"
      },
      "outputs": [],
      "source": [
        "model.compile(optimizer=\"adam\", loss=\"mae\", metrics=[\"mse\"])"
      ]
    },
    {
      "cell_type": "code",
      "execution_count": null,
      "metadata": {
        "id": "33"
      },
      "outputs": [],
      "source": [
        "history = model.fit(\n",
        "    trainX,\n",
        "    trainY,\n",
        "    epochs=100,\n",
        "    batch_size=60,\n",
        "    shuffle=True,\n",
        "    verbose=0,\n",
        "    validation_data=(testX, testY),\n",
        ")"
      ]
    },
    {
      "cell_type": "code",
      "execution_count": null,
      "metadata": {
        "colab": {
          "base_uri": "https://localhost:8080/"
        },
        "id": "34",
        "outputId": "ed6f879b-18ef-430b-d30a-fbfbcf979e83"
      },
      "outputs": [
        {
          "output_type": "stream",
          "name": "stdout",
          "text": [
            "Model: \"model\"\n",
            "_________________________________________________________________\n",
            " Layer (type)                Output Shape              Param #   \n",
            "=================================================================\n",
            " input_1 (InputLayer)        [(None, 207, 10)]         0         \n",
            "                                                                 \n",
            " tf.expand_dims (TFOpLambda)  (None, 207, 10, 1)       0         \n",
            "                                                                 \n",
            " reshape (Reshape)           (None, 207, 10)           0         \n",
            "                                                                 \n",
            " fixed_adjacency_graph_convo  (None, 207, 16)          43216     \n",
            " lution (FixedAdjacencyGraph                                     \n",
            " Convolution)                                                    \n",
            "                                                                 \n",
            " fixed_adjacency_graph_convo  (None, 207, 10)          43216     \n",
            " lution_1 (FixedAdjacencyGra                                     \n",
            " phConvolution)                                                  \n",
            "                                                                 \n",
            " reshape_1 (Reshape)         (None, 207, 10, 1)        0         \n",
            "                                                                 \n",
            " permute (Permute)           (None, 10, 207, 1)        0         \n",
            "                                                                 \n",
            " reshape_2 (Reshape)         (None, 10, 207)           0         \n",
            "                                                                 \n",
            " lstm (LSTM)                 (None, 10, 200)           326400    \n",
            "                                                                 \n",
            " lstm_1 (LSTM)               (None, 200)               320800    \n",
            "                                                                 \n",
            " dropout (Dropout)           (None, 200)               0         \n",
            "                                                                 \n",
            " dense (Dense)               (None, 207)               41607     \n",
            "                                                                 \n",
            "=================================================================\n",
            "Total params: 775,239\n",
            "Trainable params: 689,541\n",
            "Non-trainable params: 85,698\n",
            "_________________________________________________________________\n"
          ]
        }
      ],
      "source": [
        "model.summary()"
      ]
    },
    {
      "cell_type": "code",
      "execution_count": null,
      "metadata": {
        "colab": {
          "base_uri": "https://localhost:8080/"
        },
        "id": "35",
        "outputId": "468fdbe6-117c-4581-ee81-4990e19f23e4"
      },
      "outputs": [
        {
          "output_type": "stream",
          "name": "stdout",
          "text": [
            "Train loss:  0.05015435442328453 \n",
            "Test loss: 0.061033084988594055\n"
          ]
        }
      ],
      "source": [
        "print(\n",
        "    \"Train loss: \",\n",
        "    history.history[\"loss\"][-1],\n",
        "    \"\\nTest loss:\",\n",
        "    history.history[\"val_loss\"][-1],\n",
        ")"
      ]
    },
    {
      "cell_type": "code",
      "execution_count": null,
      "metadata": {
        "colab": {
          "base_uri": "https://localhost:8080/",
          "height": 585
        },
        "id": "36",
        "outputId": "e0db7964-8cbf-44cb-9f2e-927993d3c4cb"
      },
      "outputs": [
        {
          "output_type": "display_data",
          "data": {
            "text/plain": [
              "<Figure size 504x576 with 2 Axes>"
            ],
            "image/png": "[encoded data removed]"
          },
          "metadata": {
            "needs_background": "light"
          }
        }
      ],
      "source": [
        "sg.utils.plot_history(history)"
      ]
    },
    {
      "cell_type": "code",
      "execution_count": null,
      "metadata": {
        "colab": {
          "base_uri": "https://localhost:8080/"
        },
        "id": "37",
        "outputId": "cebffe3a-e0c2-493d-f49d-ecc0f298bd8b"
      },
      "outputs": [
        {
          "output_type": "stream",
          "name": "stdout",
          "text": [
            "50/50 [==============================] - 2s 28ms/step\n",
            "12/12 [==============================] - 0s 26ms/step\n"
          ]
        }
      ],
      "source": [
        "ythat = model.predict(trainX)\n",
        "yhat = model.predict(testX)"
      ]
    },
    {
      "cell_type": "markdown",
      "metadata": {
        "id": "38"
      },
      "source": [
        "## Rescale values\n",
        "\n",
        "Rescale the predicted values to the original value range of the timeseries."
      ]
    },
    {
      "cell_type": "code",
      "execution_count": null,
      "metadata": {
        "id": "39"
      },
      "outputs": [],
      "source": [
        "## Rescale values\n",
        "max_speed = train_data.max()\n",
        "min_speed = train_data.min()\n",
        "\n",
        "## actual train and test values\n",
        "train_rescref = np.array(trainY * max_speed)\n",
        "test_rescref = np.array(testY * max_speed)"
      ]
    },
    {
      "cell_type": "code",
      "execution_count": null,
      "metadata": {
        "id": "40"
      },
      "outputs": [],
      "source": [
        "## Rescale model predicted values\n",
        "train_rescpred = np.array((ythat) * max_speed)\n",
        "test_rescpred = np.array((yhat) * max_speed)"
      ]
    },
    {
      "cell_type": "markdown",
      "metadata": {
        "id": "41"
      },
      "source": [
        "## Measuring the performance of the model\n",
        "\n",
        "To understand how well the model is performing, we compare it against a naive benchmark.\n",
        "\n",
        "1. Naive prediction: using the most recently **observed** value as the predicted value. Note, that albeit being **naive** this is a very strong baseline to beat. Especially, when speeds are recorded at a 5 minutes granularity,  one does not expect many drastic changes within such a short period of time. Hence, for short-term predictions naive is a reasonable good guess."
      ]
    },
    {
      "cell_type": "markdown",
      "metadata": {
        "id": "42"
      },
      "source": [
        "### Naive prediction benchmark (using latest observed value)"
      ]
    },
    {
      "cell_type": "code",
      "execution_count": null,
      "metadata": {
        "id": "43"
      },
      "outputs": [],
      "source": [
        "## Naive prediction benchmark (using previous observed value)\n",
        "\n",
        "testnpred = np.array(testX)[\n",
        "    :, :, -1\n",
        "]  # picking the last speed of the 10 sequence for each segment in each sample\n",
        "testnpredc = (testnpred) * max_speed"
      ]
    },
    {
      "cell_type": "code",
      "execution_count": null,
      "metadata": {
        "colab": {
          "base_uri": "https://localhost:8080/"
        },
        "id": "44",
        "outputId": "84883609-4089-4300-9d1b-6e215f033b2b"
      },
      "outputs": [
        {
          "output_type": "stream",
          "name": "stdout",
          "text": [
            "Total (ave) MAE for NN: 3.8902068685642868\n",
            "Total (ave) MAE for naive prediction: 5.619645381284217\n",
            "Total (ave) MASE for per-segment NN/naive MAE: 0.6905123575446559\n",
            "...note that MASE<1 (for a given segment) means that the NN prediction is better than the naive prediction.\n"
          ]
        }
      ],
      "source": [
        "## Performance measures\n",
        "\n",
        "seg_mael = []\n",
        "seg_masel = []\n",
        "seg_nmael = []\n",
        "\n",
        "for j in range(testX.shape[-1]):\n",
        "\n",
        "    seg_mael.append(\n",
        "        np.mean(np.abs(test_rescref.T[j] - test_rescpred.T[j]))\n",
        "    )  # Mean Absolute Error for NN\n",
        "    seg_nmael.append(\n",
        "        np.mean(np.abs(test_rescref.T[j] - testnpredc.T[j]))\n",
        "    )  # Mean Absolute Error for naive prediction\n",
        "    if seg_nmael[-1] != 0:\n",
        "        seg_masel.append(\n",
        "            seg_mael[-1] / seg_nmael[-1]\n",
        "        )  # Ratio of the two: Mean Absolute Scaled Error\n",
        "    else:\n",
        "        seg_masel.append(np.NaN)\n",
        "\n",
        "print(\"Total (ave) MAE for NN: \" + str(np.mean(np.array(seg_mael))))\n",
        "print(\"Total (ave) MAE for naive prediction: \" + str(np.mean(np.array(seg_nmael))))\n",
        "print(\n",
        "    \"Total (ave) MASE for per-segment NN/naive MAE: \"\n",
        "    + str(np.nanmean(np.array(seg_masel)))\n",
        ")\n",
        "print(\n",
        "    \"...note that MASE<1 (for a given segment) means that the NN prediction is better than the naive prediction.\"\n",
        ")"
      ]
    },
    {
      "cell_type": "code",
      "execution_count": null,
      "metadata": {
        "colab": {
          "base_uri": "https://localhost:8080/",
          "height": 295
        },
        "id": "45",
        "outputId": "101ad637-0c58-4fb6-b576-90fd9b5f1bf0"
      },
      "outputs": [
        {
          "output_type": "display_data",
          "data": {
            "text/plain": [
              "<Figure size 432x288 with 1 Axes>"
            ],
            "image/png": "[encoded data removed]"
          },
          "metadata": {
            "needs_background": "light"
          }
        }
      ],
      "source": [
        "# plot violin plot of MAE for naive and NN predictions\n",
        "fig, ax = plt.subplots()\n",
        "# xl = minsl\n",
        "\n",
        "ax.violinplot(\n",
        "    list(seg_mael), showmeans=True, showmedians=False, showextrema=False, widths=1.0\n",
        ")\n",
        "\n",
        "ax.violinplot(\n",
        "    list(seg_nmael), showmeans=True, showmedians=False, showextrema=False, widths=1.0\n",
        ")\n",
        "\n",
        "line1 = mlines.Line2D([], [], label=\"NN\")\n",
        "line2 = mlines.Line2D([], [], color=\"C1\", label=\"Instantaneous\")\n",
        "\n",
        "ax.set_xlabel(\"Scaled distribution amplitude (after Gaussian convolution)\")\n",
        "ax.set_ylabel(\"Mean Absolute Error\")\n",
        "ax.set_title(\"Distribution over segments: NN pred (blue) and naive pred (orange)\")\n",
        "plt.legend(handles=(line1, line2), title=\"Prediction Model\", loc=2)\n",
        "plt.show()"
      ]
    },
    {
      "cell_type": "markdown",
      "metadata": {
        "id": "46"
      },
      "source": [
        "#### Plot of actual and predicted speeds on a sample sensor"
      ]
    },
    {
      "cell_type": "code",
      "execution_count": null,
      "metadata": {
        "colab": {
          "base_uri": "https://localhost:8080/",
          "height": 497
        },
        "id": "47",
        "outputId": "64bfdb64-1116-4ca5-ff5d-1b43d48e8eb8"
      },
      "outputs": [
        {
          "output_type": "display_data",
          "data": {
            "text/plain": [
              "<Figure size 1080x576 with 1 Axes>"
            ],
            "image/png": "[encoded data removed]"
          },
          "metadata": {
            "needs_background": "light"
          }
        }
      ],
      "source": [
        "##all test result visualization\n",
        "fig1 = plt.figure(figsize=(15, 8))\n",
        "#    ax1 = fig1.add_subplot(1,1,1)\n",
        "a_pred = test_rescpred[:, 100]\n",
        "a_true = test_rescref[:, 100]\n",
        "plt.plot(a_pred, \"r-\", label=\"prediction\")\n",
        "plt.plot(a_true, \"b-\", label=\"true\")\n",
        "plt.xlabel(\"time\")\n",
        "plt.ylabel(\"speed\")\n",
        "plt.legend(loc=\"best\", fontsize=10)\n",
        "plt.show()"
      ]
    },
    {
      "cell_type": "markdown",
      "metadata": {
        "nbsphinx": "hidden",
        "tags": [
          "CloudRunner"
        ],
        "id": "48"
      },
      "source": [
        "<table><tr><td>Run the latest release of this notebook:</td><td><a href=\"https://mybinder.org/v2/gh/stellargraph/stellargraph/master?urlpath=lab/tree/demos/time-series/gcn-lstm-time-series.ipynb\" alt=\"Open In Binder\" target=\"_parent\"><img src=\"https://mybinder.org/badge_logo.svg\"/></a></td><td><a href=\"https://colab.research.google.com/github/stellargraph/stellargraph/blob/master/demos/time-series/gcn-lstm-time-series.ipynb\" alt=\"Open In Colab\" target=\"_parent\"><img src=\"https://colab.research.google.com/assets/colab-badge.svg\"/></a></td></tr></table>"
      ]
    }
  ],
  "metadata": {
    "kernelspec": {
      "display_name": "Python 3",
      "language": "python",
      "name": "python3"
    },
    "language_info": {
      "codemirror_mode": {
        "name": "ipython",
        "version": 3
      },
      "file_extension": ".py",
      "mimetype": "text/x-python",
      "name": "python",
      "nbconvert_exporter": "python",
      "pygments_lexer": "ipython3",
      "version": "3.6.9"
    },
    "colab": {
      "provenance": [],
      "include_colab_link": true
    }
  },
  "nbformat": 4,
  "nbformat_minor": 0
}